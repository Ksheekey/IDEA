{
 "cells": [
  {
   "cell_type": "code",
   "execution_count": 1,
   "metadata": {},
   "outputs": [],
   "source": [
    "# Dependencies\n",
    "import pandas as pd\n",
    "import numpy as np\n",
    "import matplotlib.pyplot as plt\n",
    "import timeit\n",
    "import pprint as pprint\n",
    "\n",
    "# start program run timer\n",
    "start = timeit.default_timer()"
   ]
  },
  {
   "cell_type": "code",
   "execution_count": 2,
   "metadata": {},
   "outputs": [],
   "source": [
    "df14_15 = pd.read_csv('IDEA1415.csv')\n",
    "df14_15 = df14_15.rename({'17-Dec': 'y2014_15'}, axis=1)\n",
    "df14_15 = df14_15[['State','y2014_15']]\n",
    "# \n",
    "df15_16 = pd.read_csv('IDEA1516.csv')\n",
    "df15_16 = df15_16.rename({'17-Dec': 'y2015_16'}, axis=1)\n",
    "df15_16 = df15_16[['State','y2015_16']]\n",
    "df14_16 = pd.merge(df14_15,df15_16,on='State',how='inner')\n",
    "# \n",
    "df16_17 = pd.read_csv('IDEA1617.csv')\n",
    "df16_17 = df16_17.rename({'17-Dec': 'y2016_17'}, axis=1)\n",
    "df16_17 = df16_17[['State','y2016_17']]\n",
    "df14_17 = pd.merge(df14_16,df16_17,on='State',how='inner')\n",
    "# \n",
    "df17_18 = pd.read_csv('IDEA1718.csv')\n",
    "df17_18 = df17_18.rename({'17-Dec': 'y2017_18'}, axis=1)\n",
    "df17_18 = df17_18[['State','y2017_18']]\n",
    "df14_18 = pd.merge(df14_17,df17_18,on='State',how='inner')\n",
    "# \n",
    "df18_19 = pd.read_csv('IDEA1819.csv')\n",
    "df18_19 = df18_19.rename({'17-Dec': 'y2018_19'}, axis=1)\n",
    "df18_19 = df18_19[['State','y2018_19']]\n",
    "df14_19 = pd.merge(df14_18,df18_19,on='State',how='inner')\n",
    "# \n",
    "df19_20 = pd.read_csv('IDEA1920.csv')\n",
    "df19_20 = df19_20.rename({'12 to 17': 'y2019_20'}, axis=1)\n",
    "df19_20 = df19_20[['State','y2019_20']]\n",
    "df14_20 = pd.merge(df14_19,df19_20,on='State',how='inner')\n",
    "# \n",
    "headers = ['State', '2014pop', '2015pop', '2016pop', '2017pop', '2018pop', '2019pop']\n",
    "Spop = pd.read_csv('Spop14_19.csv', names=headers)\n",
    "#\n",
    "names = ['State', '2020pop']\n",
    "Spop20 = pd.read_csv('Spop2020.csv', names=names)\n",
    "#\n",
    "statePop = pd.merge(Spop,Spop20,on='State',how='inner')\n",
    "#\n",
    "IDEA14_20 = pd.merge(df14_20,statePop,on='State',how='inner')\n",
    "#\n",
    "# IDEA14_20"
   ]
  },
  {
   "cell_type": "code",
   "execution_count": 3,
   "metadata": {},
   "outputs": [],
   "source": [
    "IDEA14_20['IDEA_perc_chng14_20'] = ((((IDEA14_20['y2019_20'] - IDEA14_20['y2014_15']) / IDEA14_20['y2014_15']) * 100))\n",
    "IDEA14_20['Spop_perc_chng14_20'] = ((((IDEA14_20['2020pop'] - IDEA14_20['2014pop']) / IDEA14_20['2014pop']) * 100))\n",
    "\n",
    "# IDEA14_20"
   ]
  },
  {
   "cell_type": "code",
   "execution_count": 4,
   "metadata": {},
   "outputs": [],
   "source": [
    "# Create an array that contains the number of users each language has\n",
    "x = IDEA14_20['IDEA_perc_chng14_20']\n",
    "x_axis = np.arange(len(x))\n",
    "# x_axis"
   ]
  },
  {
   "cell_type": "code",
   "execution_count": 5,
   "metadata": {},
   "outputs": [
    {
     "data": {
      "text/plain": [
       "<BarContainer object of 50 artists>"
      ]
     },
     "execution_count": 5,
     "metadata": {},
     "output_type": "execute_result"
    },
    {
     "data": {
      "image/png": "[encoded data removed]",
      "text/plain": [
       "<Figure size 432x288 with 1 Axes>"
      ]
     },
     "metadata": {
      "needs_background": "light"
     },
     "output_type": "display_data"
    }
   ],
   "source": [
    "plt.bar(x_axis, x, color='orange', alpha=0.5, align=\"center\")"
   ]
  },
  {
   "cell_type": "code",
   "execution_count": 6,
   "metadata": {},
   "outputs": [],
   "source": [
    "# tick_locations = [value for value in x_axis]\n",
    "# plt.xticks(tick_locations, [value for value in IDEA14_20['State']])\n",
    "\n",
    "# # Sets the x limits of the current chart\n",
    "# plt.xlim(-0.75, len(x_axis)-0.25)\n",
    "\n",
    "# # Sets the y limits of the current chart\n",
    "# plt.ylim(0, max(x)+5000)\n",
    "\n",
    "# # Give our chart some labels and a tile\n",
    "# plt.title(\"Individuals w/ Disabilities Education Act\")\n",
    "# plt.xlabel(\"State\")\n",
    "# plt.ylabel(\"Percent Change from 2014 - 2020\")"
   ]
  },
  {
   "cell_type": "code",
   "execution_count": 7,
   "metadata": {},
   "outputs": [],
   "source": [
    "# save locally to CSV\n",
    "IDEA14_20.to_csv('IDEA14_20.csv', index=False)"
   ]
  },
  {
   "cell_type": "code",
   "execution_count": 8,
   "metadata": {},
   "outputs": [
    {
     "name": "stdout",
     "output_type": "stream",
     "text": [
      "Time to run: 0.5232802629999997 seconds\n"
     ]
    }
   ],
   "source": [
    "# stop program run timer\n",
    "stop = timeit.default_timer()\n",
    "\n",
    "# view how long it took to run\n",
    "# try and find improvments to speed up later\n",
    "print('Time to run:', stop - start, 'seconds')"
   ]
  }
 ],
 "metadata": {
  "kernelspec": {
   "display_name": "Python 3",
   "language": "python",
   "name": "python3"
  },
  "language_info": {
   "codemirror_mode": {
    "name": "ipython",
    "version": 3
   },
   "file_extension": ".py",
   "mimetype": "text/x-python",
   "name": "python",
   "nbconvert_exporter": "python",
   "pygments_lexer": "ipython3",
   "version": "3.8.5"
  }
 },
 "nbformat": 4,
 "nbformat_minor": 4
}

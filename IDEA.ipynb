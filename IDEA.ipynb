{
 "cells": [
  {
   "cell_type": "code",
   "execution_count": 1,
   "metadata": {},
   "outputs": [],
   "source": [
    "# Dependencies\n",
    "import pandas as pd\n",
    "import numpy as np\n",
    "import matplotlib.pyplot as plt\n",
    "import timeit\n",
    "import pprint as pprint\n",
    "import scipy.stats as st\n",
    "from scipy import stats\n",
    "\n",
    "# start program run timer\n",
    "start = timeit.default_timer()"
   ]
  },
  {
   "cell_type": "code",
   "execution_count": 2,
   "metadata": {},
   "outputs": [],
   "source": [
    "# Pulling in each CSV for IDEA and population info then merging on State\n",
    "\n",
    "# IDEA info pulled from https://www2.ed.gov/programs/osepidea/618-data/static-tables/index.html\n",
    "# IDEA is Individuals with Disabilites Education Act\n",
    "# Part B Child Count and Educational Environments\n",
    "# Note: These data are a snapshot count collected by states in the fall of the identified school year. \n",
    "# NaN's are either: *Data not available, *Data suppressed due to small cell size, *Data flagged due to questionable data quality\"\n",
    "# Census data 2014-2019 pulled from https://www.census.gov/data/tables/time-series/demo/popest/2010s-state-total.html\n",
    "# T1 - Annual Estimates of the Resident Population for the United States, Regions, States, and Puerto Rico: April 1, 2010 to July 1, 2019\n",
    "# Census data 2020 pulled from https://www.census.gov/data/tables/2020/dec/2020-apportionment-data.html\n",
    "# T2 - RESIDENT POPULATION FOR THE 50 STATES, THE DISTRICT OF COLUMBIA, AND PUERTO RICO: 2020 CENSUS\n",
    "\n",
    "df14_15 = pd.read_csv('IDEA1415.csv')\n",
    "df14_15 = df14_15.rename({'17-Dec': 'y2014_15'}, axis=1)\n",
    "df14_15 = df14_15[['State','y2014_15']]\n",
    "# \n",
    "df15_16 = pd.read_csv('IDEA1516.csv')\n",
    "df15_16 = df15_16.rename({'17-Dec': 'y2015_16'}, axis=1)\n",
    "df15_16 = df15_16[['State','y2015_16']]\n",
    "df14_16 = pd.merge(df14_15,df15_16,on='State',how='inner')\n",
    "# \n",
    "df16_17 = pd.read_csv('IDEA1617.csv')\n",
    "df16_17 = df16_17.rename({'17-Dec': 'y2016_17'}, axis=1)\n",
    "df16_17 = df16_17[['State','y2016_17']]\n",
    "df14_17 = pd.merge(df14_16,df16_17,on='State',how='inner')\n",
    "# \n",
    "df17_18 = pd.read_csv('IDEA1718.csv')\n",
    "df17_18 = df17_18.rename({'17-Dec': 'y2017_18'}, axis=1)\n",
    "df17_18 = df17_18[['State','y2017_18']]\n",
    "df14_18 = pd.merge(df14_17,df17_18,on='State',how='inner')\n",
    "# \n",
    "df18_19 = pd.read_csv('IDEA1819.csv')\n",
    "df18_19 = df18_19.rename({'17-Dec': 'y2018_19'}, axis=1)\n",
    "df18_19 = df18_19[['State','y2018_19']]\n",
    "df14_19 = pd.merge(df14_18,df18_19,on='State',how='inner')\n",
    "# \n",
    "df19_20 = pd.read_csv('IDEA1920.csv')\n",
    "df19_20 = df19_20.rename({'12 to 17': 'y2019_20'}, axis=1)\n",
    "df19_20 = df19_20[['State','y2019_20']]\n",
    "df14_20 = pd.merge(df14_19,df19_20,on='State',how='inner')\n",
    "# \n",
    "headers = ['State', '2014pop', '2015pop', '2016pop', '2017pop', '2018pop', '2019pop']\n",
    "Spop = pd.read_csv('Spop14_19.csv', names=headers)\n",
    "#\n",
    "names = ['State', '2020pop']\n",
    "Spop20 = pd.read_csv('Spop2020.csv', names=names)\n",
    "#\n",
    "statePop = pd.merge(Spop,Spop20,on='State',how='inner')\n",
    "#\n",
    "IDEA14_20 = pd.merge(df14_20,statePop,on='State',how='inner')"
   ]
  },
  {
   "cell_type": "code",
   "execution_count": 3,
   "metadata": {},
   "outputs": [],
   "source": [
    "# Creating the percent change columns for percent change in student count and population count per state 2014-2020\n",
    "\n",
    "IDEA14_20['IDEA_perc_chng14_20'] = ((((IDEA14_20['y2019_20'] - IDEA14_20['y2014_15']) / IDEA14_20['y2014_15']) * 100))\n",
    "IDEA14_20['Spop_perc_chng14_20'] = ((((IDEA14_20['2020pop'] - IDEA14_20['2014pop']) / IDEA14_20['2014pop']) * 100))"
   ]
  },
  {
   "cell_type": "code",
   "execution_count": 4,
   "metadata": {},
   "outputs": [
    {
     "name": "stdout",
     "output_type": "stream",
     "text": [
      "The correlation between IDEA students and population % changes from 2014-2020 Age 12-17 is 0.39\n"
     ]
    },
    {
     "data": {
      "image/png": "[encoded data removed]",
      "text/plain": [
       "<Figure size 432x288 with 1 Axes>"
      ]
     },
     "metadata": {
      "needs_background": "light"
     },
     "output_type": "display_data"
    }
   ],
   "source": [
    "# For correlation work Nan's could not be present so Wisconson and Wyoming are not included, took the first 48 instances\n",
    "data = IDEA14_20[0:48]\n",
    "\n",
    "# Plotting and finding the correlation between students and population changes\n",
    "students = data['IDEA_perc_chng14_20']\n",
    "population = data['Spop_perc_chng14_20']\n",
    "correlation = st.pearsonr(students,population)\n",
    "print(f\"The correlation between IDEA students and population % changes from 2014-2020 Age 12-17 is {round(correlation[0],2)}\")\n",
    "plt.scatter(students,population)\n",
    "plt.grid()"
   ]
  },
  {
   "cell_type": "code",
   "execution_count": 5,
   "metadata": {},
   "outputs": [
    {
     "data": {
      "image/png": "[encoded data removed]",
      "text/plain": [
       "<Figure size 432x288 with 1 Axes>"
      ]
     },
     "metadata": {
      "needs_background": "light"
     },
     "output_type": "display_data"
    }
   ],
   "source": [
    "# Linear regression\n",
    "\n",
    "(slope, intercept, rvalue, pvalue, stderr) = stats.linregress(students,population)\n",
    "regress_values = students * slope * intercept\n",
    "line_eq = \"y = \" + str(round(slope,2)) + \"x + \" + str(round(intercept,2))\n",
    "plt.scatter(students,population)\n",
    "plt.plot(students,regress_values,\"r-\")\n",
    "plt.annotate(line_eq,(-4,12),fontsize=15,color=\"orange\")\n",
    "plt.xlabel('Students')\n",
    "plt.ylabel('Population')\n",
    "plt.show()"
   ]
  },
  {
   "cell_type": "code",
   "execution_count": 6,
   "metadata": {},
   "outputs": [],
   "source": [
    "# save locally to CSV\n",
    "IDEA14_20.to_csv('IDEA14_20.csv', index=False)"
   ]
  },
  {
   "cell_type": "code",
   "execution_count": 7,
   "metadata": {},
   "outputs": [
    {
     "name": "stdout",
     "output_type": "stream",
     "text": [
      "Time to run: 0.680140212 seconds\n"
     ]
    }
   ],
   "source": [
    "# stop program run timer\n",
    "stop = timeit.default_timer()\n",
    "\n",
    "# view how long it took to run\n",
    "# try and find improvments to speed up later\n",
    "print('Time to run:', stop - start, 'seconds')"
   ]
  }
 ],
 "metadata": {
  "kernelspec": {
   "display_name": "Python 3",
   "language": "python",
   "name": "python3"
  },
  "language_info": {
   "codemirror_mode": {
    "name": "ipython",
    "version": 3
   },
   "file_extension": ".py",
   "mimetype": "text/x-python",
   "name": "python",
   "nbconvert_exporter": "python",
   "pygments_lexer": "ipython3",
   "version": "3.8.5"
  }
 },
 "nbformat": 4,
 "nbformat_minor": 4
}
